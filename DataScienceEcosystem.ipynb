{
 "cells": [
  {
   "cell_type": "markdown",
   "id": "24499099-0bd6-46f1-bfd4-4f156a844d09",
   "metadata": {},
   "source": [
    "# Data Science Tools and Ecosystem"
   ]
  },
  {
   "cell_type": "markdown",
   "id": "de39b765-7759-48f6-ba35-ea7dbfc4acd1",
   "metadata": {},
   "source": [
    "In this notebook, Data Science Tools and Ecosystem are summarized.\n",
    "\n"
   ]
  },
  {
   "cell_type": "markdown",
   "id": "11646f7c-87ec-449c-bb7b-8da355fc3f4b",
   "metadata": {},
   "source": [
    "Objectives:\n",
    "+ Undordered List\n",
    "+ Headings\n",
    "+ Arithmetic\n",
    "+ Undordered Lists"
   ]
  },
  {
   "cell_type": "markdown",
   "id": "bf729854-6817-4691-8fed-7f37e668edf8",
   "metadata": {},
   "source": [
    "Some of the popular languages that Data Scientists use are:\n",
    "1. R\n",
    "2. Python\n",
    "3. "
   ]
  },
  {
   "cell_type": "markdown",
   "id": "1b9049c2-7b78-40c5-9eb3-8332c1440adc",
   "metadata": {},
   "source": [
    "Some of the commonly used libraries used by Data Scientists include:\n",
    "1. NumPy\n",
    "2. Pandas\n",
    "3. Matplotlib\n"
   ]
  },
  {
   "cell_type": "markdown",
   "id": "58b8ff61-4dc2-4bc6-9ed9-57939802735d",
   "metadata": {},
   "source": [
    "|Data Science Tools|\n",
    "|------------------|\n",
    "|Jupyter Notebook|\n",
    "|Git|\n",
    "|Eclipse|"
   ]
  },
  {
   "cell_type": "markdown",
   "id": "ef00db80-a3f5-4738-8e3b-97fe5244ba74",
   "metadata": {},
   "source": [
    "### Below are a few examples of evaluating arithmetic expressions in Python."
   ]
  },
  {
   "cell_type": "code",
   "execution_count": 5,
   "id": "5583298b-c44e-48ef-a702-10eea02e3b61",
   "metadata": {},
   "outputs": [
    {
     "data": {
      "text/plain": [
       "17"
      ]
     },
     "execution_count": 5,
     "metadata": {},
     "output_type": "execute_result"
    }
   ],
   "source": [
    "#This a simple arithmetic expression to mutiply then add integers.\n",
    "(3*4)+5"
   ]
  },
  {
   "cell_type": "code",
   "execution_count": 7,
   "id": "8f899aa7-082c-4382-bbb2-e9db3185c92a",
   "metadata": {},
   "outputs": [
    {
     "data": {
      "text/plain": [
       "3.3333333333333335"
      ]
     },
     "execution_count": 7,
     "metadata": {},
     "output_type": "execute_result"
    }
   ],
   "source": [
    "#his will convert 200 minutes to hours by diving by 60.\n",
    "200/60"
   ]
  },
  {
   "cell_type": "markdown",
   "id": "23726db1-1e54-4f9c-bd3e-84373a82dd96",
   "metadata": {},
   "source": [
    "## Author\n",
    "\n",
    "Botle Macha"
   ]
  },
  {
   "cell_type": "code",
   "execution_count": null,
   "id": "0d0d1aac-bd55-415f-84d2-c3a243801c4e",
   "metadata": {},
   "outputs": [],
   "source": []
  }
 ],
 "metadata": {
  "kernelspec": {
   "display_name": "Python 3 (ipykernel)",
   "language": "python",
   "name": "python3"
  },
  "language_info": {
   "codemirror_mode": {
    "name": "ipython",
    "version": 3
   },
   "file_extension": ".py",
   "mimetype": "text/x-python",
   "name": "python",
   "nbconvert_exporter": "python",
   "pygments_lexer": "ipython3",
   "version": "3.12.7"
  }
 },
 "nbformat": 4,
 "nbformat_minor": 5
}
